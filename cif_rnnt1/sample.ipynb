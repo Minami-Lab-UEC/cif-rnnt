{
 "cells": [
  {
   "cell_type": "code",
   "execution_count": 1,
   "metadata": {},
   "outputs": [],
   "source": [
    "from .wrapper import CifRnntWrapper"
   ]
  },
  {
   "cell_type": "code",
   "execution_count": 2,
   "metadata": {},
   "outputs": [],
   "source": [
    "device = \"cuda:0\"\n",
    "model_filepath = \"cif_rnnt/meanatt_3gram_nwords_ep40avg11.pt\"\n",
    "lang_dir = \"cif_rnnt/lang_bpe_500\"\n",
    "one_file = \"test_audio/1688-142285-0000.flac\"\n",
    "two_files = [\n",
    "    \"test_audio/1688-142285-0000.flac\",\n",
    "    \"test_audio/1688-142285-0087.flac\"\n",
    "]\n",
    "groundtruths = {\n",
    "    #                                   \"THERE'S IRON THEY SAY IN ALL OUR BLOOD AND A GRAIN OR TWO PERHAPS IS GOOD BUT HIS HE MAKES ME HARSHLY FEEL HAS GOT A LITTLE TOO MUCH OF STEEL ANON\"]\n",
    "    \"test_audio/1688-142285-0000.flac\": \"THERE'S IRON THEY SAY IN ALL OUR BLOOD AND A GRAIN OR TWO PERHAPS IS GOOD BUT HIS HE MAKES ME HARSHLY FEEL HAS GOT A LITTLE TOO MUCH OF STEEL ANON\",\n",
    "    \"test_audio/1688-142285-0087.flac\" : \"MISSUS THORNTON THE ONLY MOTHER HE HAS I BELIEVE SAID MISTER HALE QUIETLY\"\n",
    "}"
   ]
  },
  {
   "cell_type": "code",
   "execution_count": 3,
   "metadata": {},
   "outputs": [
    {
     "name": "stderr",
     "output_type": "stream",
     "text": [
      "/home/teo/wwork/cif_rnnt1/cif_rnnt/wrapper.py:126: FutureWarning: You are using `torch.load` with `weights_only=False` (the current default value), which uses the default pickle module implicitly. It is possible to construct malicious pickle data which will execute arbitrary code during unpickling (See https://github.com/pytorch/pytorch/blob/main/SECURITY.md#untrusted-models for more details). In a future release, the default value for `weights_only` will be flipped to `True`. This limits the functions that could be executed during unpickling. Arbitrary objects will no longer be allowed to be loaded via this mode unless they are explicitly allowlisted by the user via `torch.serialization.add_safe_globals`. We recommend you start setting `weights_only=True` for any use case where you don't have full control of the loaded file. Please open an issue on GitHub for any issues related to this experimental feature.\n",
      "  model_params = torch.load(model_filepath, map_location=device)\n"
     ]
    }
   ],
   "source": [
    "decoder = CifRnntWrapper(\n",
    "    model_filepath=model_filepath,\n",
    "    lang_dir=lang_dir,\n",
    "    device=device\n",
    ")"
   ]
  },
  {
   "cell_type": "code",
   "execution_count": 4,
   "metadata": {},
   "outputs": [],
   "source": [
    "def sample_decode(\n",
    "    *filenames : list[str],\n",
    "):\n",
    "    wavs = decoder.file_to_wav(*filenames)\n",
    "    mels, mel_lens = decoder.wav_to_mel(wavs)\n",
    "    awes, awe_lens = decoder.mel_to_awe(mels, mel_lens)\n",
    "    hyps = decoder.awe_to_text(awes, awe_lens)\n",
    "    \n",
    "    refs = [\n",
    "        groundtruths[f] for f in filenames\n",
    "    ]\n",
    "    \n",
    "    alignment = decoder.awe_text_to_alignment(awes, awe_lens, refs)\n",
    "\n",
    "    return {\n",
    "        \"wavs\": wavs,\n",
    "        \"awes\": awes,\n",
    "        \"awe_lens\": awe_lens,\n",
    "        \"hyps\": hyps,\n",
    "        \"alignment\": alignment\n",
    "    }"
   ]
  },
  {
   "cell_type": "code",
   "execution_count": 5,
   "metadata": {},
   "outputs": [
    {
     "data": {
      "text/plain": [
       "{'wavs': [tensor([[0.0913, 0.0916, 0.0918,  ..., 0.0173, 0.0183, 0.0195]])],\n",
       " 'awes': tensor([[[-0.6926, -0.2742, -0.1056,  ..., -0.0248,  0.0692, -0.0206],\n",
       "          [-0.7274, -0.3990, -0.3083,  ...,  0.0058,  0.0608,  0.0386],\n",
       "          [-0.3261, -0.0638, -0.7222,  ...,  0.0331, -0.0138, -0.0359],\n",
       "          ...,\n",
       "          [ 0.2202,  0.5394,  0.1839,  ..., -0.0113, -0.0025, -0.0076],\n",
       "          [ 0.4680, -0.1542, -0.0192,  ..., -0.0406,  0.0166,  0.0328],\n",
       "          [ 0.0058,  0.0570, -0.2888,  ...,  0.0277, -0.0632,  0.0543]]],\n",
       "        device='cuda:0'),\n",
       " 'awe_lens': tensor([29], device='cuda:0', dtype=torch.int32),\n",
       " 'hyps': [\"THERE'S IRON THEY SAY IN ALL OUR BLOOD AND A GRAIN OR TWO PERHAPS IS GOOD BUT HIS HE MAKES ME HARSHLY FEEL HAS GOT A LITTLE TOO MUCH OF STEEL ANON\"],\n",
       " 'awe2token': [[(0, ''),\n",
       "   (1, \"THERE'S\"),\n",
       "   (2, 'IRON'),\n",
       "   (3, ''),\n",
       "   (4, 'THEY SAY'),\n",
       "   (5, 'IN ALL'),\n",
       "   (6, 'OUR'),\n",
       "   (7, 'BLOOD'),\n",
       "   (8, 'AND'),\n",
       "   (9, 'A GRAIN'),\n",
       "   (10, ''),\n",
       "   (11, 'OR TWO'),\n",
       "   (12, 'PERHAPS'),\n",
       "   (13, 'IS GOOD'),\n",
       "   (14, 'BUT'),\n",
       "   (15, 'HIS'),\n",
       "   (16, 'HE MAKES'),\n",
       "   (17, ''),\n",
       "   (18, 'ME'),\n",
       "   (19, 'HARSHLY'),\n",
       "   (20, 'FEEL'),\n",
       "   (21, 'HAS'),\n",
       "   (22, 'GOT'),\n",
       "   (23, 'A LITTLE'),\n",
       "   (24, 'TOO MUCH'),\n",
       "   (25, 'OF'),\n",
       "   (26, 'STEEL'),\n",
       "   (27, 'ANON'),\n",
       "   (28, '')]]}"
      ]
     },
     "execution_count": 5,
     "metadata": {},
     "output_type": "execute_result"
    }
   ],
   "source": [
    "ret = sample_decode(one_file)\n",
    "ret"
   ]
  },
  {
   "cell_type": "code",
   "execution_count": 6,
   "metadata": {},
   "outputs": [
    {
     "data": {
      "text/plain": [
       "{'wavs': [tensor([[0.0913, 0.0916, 0.0918,  ..., 0.0173, 0.0183, 0.0195]]),\n",
       "  tensor([[-0.1065, -0.1060, -0.1055,  ...,  0.0111,  0.0101,  0.0099]])],\n",
       " 'awes': tensor([[[-6.9262e-01, -2.7422e-01, -1.0559e-01,  ..., -2.4800e-02,\n",
       "            6.9188e-02, -2.0588e-02],\n",
       "          [-7.2738e-01, -3.9903e-01, -3.0826e-01,  ...,  5.8358e-03,\n",
       "            6.0814e-02,  3.8594e-02],\n",
       "          [-3.2611e-01, -6.3833e-02, -7.2217e-01,  ...,  3.3100e-02,\n",
       "           -1.3813e-02, -3.5869e-02],\n",
       "          ...,\n",
       "          [ 2.2018e-01,  5.3935e-01,  1.8393e-01,  ..., -1.1320e-02,\n",
       "           -2.4503e-03, -7.5547e-03],\n",
       "          [ 4.6795e-01, -1.5418e-01, -1.9240e-02,  ..., -4.0595e-02,\n",
       "            1.6587e-02,  3.2847e-02],\n",
       "          [ 5.7840e-03,  5.6954e-02, -2.8882e-01,  ...,  2.7741e-02,\n",
       "           -6.3177e-02,  5.4346e-02]],\n",
       " \n",
       "         [[-5.6590e-01,  4.6722e-01, -2.9455e-02,  ..., -2.7147e-02,\n",
       "            6.5345e-02, -2.3024e-02],\n",
       "          [ 5.0038e-02,  7.8907e-02,  1.6104e-01,  ...,  2.9896e-02,\n",
       "            9.7337e-03, -9.8183e-02],\n",
       "          [ 2.0487e-01,  4.7973e-02,  1.0025e-01,  ..., -1.3454e-02,\n",
       "            1.0769e-02, -3.7912e-02],\n",
       "          ...,\n",
       "          [-9.0168e-02,  1.4635e-01,  6.5994e-02,  ...,  3.6793e-03,\n",
       "            1.9361e-02,  5.6823e-04],\n",
       "          [-9.0168e-02,  1.4635e-01,  6.5994e-02,  ...,  3.6793e-03,\n",
       "            1.9361e-02,  5.6823e-04],\n",
       "          [-9.0168e-02,  1.4635e-01,  6.5994e-02,  ...,  3.6793e-03,\n",
       "            1.9361e-02,  5.6823e-04]]], device='cuda:0'),\n",
       " 'awe_lens': tensor([29, 11], device='cuda:0', dtype=torch.int32),\n",
       " 'hyps': [\"THERE'S IRON THEY SAY IN ALL OUR BLOOD AND A GRAIN OR TWO PERHAPS IS GOOD BUT HIS HE MAKES ME HARSHLY FEEL HAS GOT A LITTLE TOO MUCH OF STEEL ANON\",\n",
       "  'MISTER THORNTON THE ONLY MOTHER HE HAS I BELIEVE SAID MISTER HALE QUIETLY'],\n",
       " 'awe2token': [[(0, ''),\n",
       "   (1, \"THERE'S\"),\n",
       "   (2, 'IRON'),\n",
       "   (3, ''),\n",
       "   (4, 'THEY SAY'),\n",
       "   (5, 'IN ALL'),\n",
       "   (6, 'OUR'),\n",
       "   (7, 'BLOOD'),\n",
       "   (8, 'AND'),\n",
       "   (9, 'A GRAIN'),\n",
       "   (10, ''),\n",
       "   (11, 'OR TWO'),\n",
       "   (12, 'PERHAPS'),\n",
       "   (13, 'IS GOOD'),\n",
       "   (14, 'BUT'),\n",
       "   (15, 'HIS'),\n",
       "   (16, 'HE MAKES'),\n",
       "   (17, ''),\n",
       "   (18, 'ME'),\n",
       "   (19, 'HARSHLY'),\n",
       "   (20, 'FEEL'),\n",
       "   (21, 'HAS'),\n",
       "   (22, 'GOT'),\n",
       "   (23, 'A LITTLE'),\n",
       "   (24, 'TOO MUCH'),\n",
       "   (25, 'OF'),\n",
       "   (26, 'STEEL'),\n",
       "   (27, 'ANON'),\n",
       "   (28, '')],\n",
       "  [(0, 'MISSUS'),\n",
       "   (1, 'THORN'),\n",
       "   (2, 'TON'),\n",
       "   (3, 'THE ONLY'),\n",
       "   (4, 'MOTHER'),\n",
       "   (5, 'HE HAS'),\n",
       "   (6, 'I BELIEVE'),\n",
       "   (7, 'SAID'),\n",
       "   (8, 'MISTER'),\n",
       "   (9, 'HALE'),\n",
       "   (10, 'QUIETLY')]]}"
      ]
     },
     "execution_count": 6,
     "metadata": {},
     "output_type": "execute_result"
    }
   ],
   "source": [
    "ret = sample_decode(*two_files)\n",
    "ret"
   ]
  },
  {
   "cell_type": "code",
   "execution_count": 9,
   "metadata": {},
   "outputs": [
    {
     "data": {
      "text/plain": [
       "([29, 11], [29, 11])"
      ]
     },
     "execution_count": 9,
     "metadata": {},
     "output_type": "execute_result"
    }
   ],
   "source": [
    "# You can convert a stacked AWE tensor into per-batch AWE.\n",
    "\n",
    "from torch.nn.utils.rnn import unpad_sequence\n",
    "\n",
    "unpadded_awes = unpad_sequence(ret[\"awes\"], lengths=ret[\"awe_lens\"], batch_first=True)\n",
    "[s.size(0) for s in unpadded_awes], [len(s) for s in ret[\"alignment\"]]"
   ]
  }
 ],
 "metadata": {
  "kernelspec": {
   "display_name": "base",
   "language": "python",
   "name": "python3"
  },
  "language_info": {
   "codemirror_mode": {
    "name": "ipython",
    "version": 3
   },
   "file_extension": ".py",
   "mimetype": "text/x-python",
   "name": "python",
   "nbconvert_exporter": "python",
   "pygments_lexer": "ipython3",
   "version": "3.10.16"
  }
 },
 "nbformat": 4,
 "nbformat_minor": 2
}
